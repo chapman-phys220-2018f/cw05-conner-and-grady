{
 "cells": [
  {
   "cell_type": "markdown",
   "metadata": {
    "collapsed": false
   },
   "source": [
    "Critique of Classwork 3 group Klang\n",
    "\n",
    "It is clear how code is organized. Checks are ran first, failing them results in an exit and if passed you move on to the main code.\n",
    "Code is commented with descriptions of each function. Following the algorithm of the code is particularly easy. Code works and trivis automatically runs tests. Rate 100/100.\n",
    "\n"
   ]
  },
  {
   "cell_type": "markdown",
   "metadata": {
    "collapsed": false
   },
   "source": [
    "Critique of Classwork 3 of Grady Raha\n",
    "\n",
    "The code is very well organized and does what it is supposed to. The only real comment I can make is that there is little documentation on what each variable does, this is understandable for this code though, since it is simple enough that the variable's purpose can be easily infered from the code.\n",
    "\n",
    "Rating 99.9999999999999999999999/100"
   ]
  },
  {
   "cell_type": "code",
   "execution_count": 0,
   "metadata": {
    "collapsed": false
   },
   "outputs": [
   ],
   "source": [
   ]
  }
 ],
 "metadata": {
  "kernelspec": {
   "display_name": "SageMath (stable)",
   "name": "sagemath"
  },
  "language_info": {
   "codemirror_mode": {
    "name": "ipython",
    "version": 2
   },
   "file_extension": ".py",
   "mimetype": "text/x-python",
   "name": "python",
   "nbconvert_exporter": "python",
   "pygments_lexer": "ipython2",
   "version": "2.7.15"
  }
 },
 "nbformat": 4,
 "nbformat_minor": 0
}